{
 "cells": [
  {
   "cell_type": "code",
   "execution_count": 184,
   "metadata": {},
   "outputs": [],
   "source": [
    "import numpy as np\n",
    "\n",
    "import tensorflow_probability as tfp\n",
    "tfd = tfp.distributions\n",
    "\n",
    "from tensorflow.keras.metrics import Mean\n",
    "\n",
    "from tqdm import tqdm\n",
    "\n",
    "import matplotlib.pyplot as plt\n",
    "plt.style.use('fivethirtyeight')"
   ]
  },
  {
   "cell_type": "markdown",
   "metadata": {},
   "source": [
    "# K-Armed bandit problem"
   ]
  },
  {
   "cell_type": "markdown",
   "metadata": {},
   "source": [
    "## Stationary case\n",
    "\n",
    "We have 10 different stationary distributions (arms). We build an agent whose task is to find the highest-paying arm."
   ]
  },
  {
   "cell_type": "code",
   "execution_count": 190,
   "metadata": {},
   "outputs": [],
   "source": [
    "# Generate arms randomly\n",
    "N_BANDITS = 10\n",
    "\n",
    "bandits = []\n",
    "\n",
    "for i in range(N_BANDITS):\n",
    "    mean = np.random.uniform(1, 30, 1).round().astype(float)[0]\n",
    "    sd = np.random.uniform(1, 20, 1).round().astype(float)[0]\n",
    "    bandits.append(tfd.Normal(loc=mean, scale=sd))"
   ]
  },
  {
   "cell_type": "markdown",
   "metadata": {},
   "source": [
    "### Exploit strategy \n",
    "\n",
    "There's one round of exploration and then we apply pure exploitation."
   ]
  },
  {
   "cell_type": "code",
   "execution_count": 191,
   "metadata": {},
   "outputs": [
    {
     "name": "stderr",
     "output_type": "stream",
     "text": [
      "100%|███████████████████████████████████████████████████████████████████████████████| 100/100 [00:00<00:00, 230.71it/s]\n"
     ]
    }
   ],
   "source": [
    "N_TRIALS = 100\n",
    "\n",
    "rewards = []\n",
    "trials = []\n",
    "\n",
    "initial_phase = True\n",
    "\n",
    "for i in tqdm(range(N_TRIALS)):\n",
    "    \n",
    "    # Explore\n",
    "    if initial_phase:\n",
    "        for b in range(len(bandits)):\n",
    "            rewards.append(Mean())\n",
    "            result = bandits[b].sample()\n",
    "            rewards[b](result)\n",
    "            trials.append(b)\n",
    "        initial_phase = False\n",
    "            \n",
    "    # Exploit\n",
    "    else:\n",
    "        b = np.argmax([r.result().numpy() for r in rewards])\n",
    "        result = bandits[b].sample()\n",
    "        rewards[b](result)\n",
    "        trials.append(b)"
   ]
  },
  {
   "cell_type": "code",
   "execution_count": 192,
   "metadata": {},
   "outputs": [
    {
     "name": "stdout",
     "output_type": "stream",
     "text": [
      "Bandit 0: mu = 22.0, sigma = 16.0\n",
      "Bandit 1: mu = 4.0, sigma = 16.0\n",
      "Bandit 2: mu = 16.0, sigma = 6.0\n",
      "Bandit 3: mu = 20.0, sigma = 12.0\n",
      "Bandit 4: mu = 1.0, sigma = 7.0\n",
      "Bandit 5: mu = 25.0, sigma = 16.0\n",
      "Bandit 6: mu = 25.0, sigma = 17.0\n",
      "Bandit 7: mu = 9.0, sigma = 4.0\n",
      "Bandit 8: mu = 6.0, sigma = 9.0\n",
      "Bandit 9: mu = 14.0, sigma = 13.0\n"
     ]
    }
   ],
   "source": [
    "for b in range(len(bandits)):\n",
    "    print(f'Bandit {b}: mu = {bandits[b].loc.numpy()}, sigma = {bandits[b].scale.numpy()}')"
   ]
  },
  {
   "cell_type": "code",
   "execution_count": 193,
   "metadata": {
    "scrolled": true
   },
   "outputs": [
    {
     "name": "stdout",
     "output_type": "stream",
     "text": [
      "True best: 5 with mean of 25.0\n",
      "Agent picked: 6 with empirical mean of 25.823686599731445\n"
     ]
    }
   ],
   "source": [
    "# Results\n",
    "true_means = [b.loc.numpy() for b in bandits]\n",
    "agent_means = [r.result().numpy() for r in rewards]\n",
    "\n",
    "print(f'True best: {np.argmax(true_means)} with mean of {max(true_means)}')\n",
    "print(f'Agent picked: {np.argmax(agent_means)} with empirical mean of {max(agent_means)}')"
   ]
  },
  {
   "cell_type": "code",
   "execution_count": 194,
   "metadata": {},
   "outputs": [
    {
     "data": {
      "image/png": "[encoded data removed]",
      "text/plain": [
       "<Figure size 576x396 with 1 Axes>"
      ]
     },
     "metadata": {},
     "output_type": "display_data"
    }
   ],
   "source": [
    "plt.scatter(np.arange(len(trials)), trials, alpha=.5)\n",
    "plt.title('History of agent\\'s choices')\n",
    "plt.show()"
   ]
  },
  {
   "cell_type": "code",
   "execution_count": null,
   "metadata": {},
   "outputs": [],
   "source": []
  },
  {
   "cell_type": "code",
   "execution_count": null,
   "metadata": {},
   "outputs": [],
   "source": []
  }
 ],
 "metadata": {
  "kernelspec": {
   "display_name": "Python [conda env:nlp-dl-env]",
   "language": "python",
   "name": "conda-env-nlp-dl-env-py"
  },
  "language_info": {
   "codemirror_mode": {
    "name": "ipython",
    "version": 3
   },
   "file_extension": ".py",
   "mimetype": "text/x-python",
   "name": "python",
   "nbconvert_exporter": "python",
   "pygments_lexer": "ipython3",
   "version": "3.8.10"
  }
 },
 "nbformat": 4,
 "nbformat_minor": 4
}
