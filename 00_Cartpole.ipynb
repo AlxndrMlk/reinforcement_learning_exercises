{
 "cells": [
  {
   "cell_type": "code",
   "execution_count": 294,
   "metadata": {},
   "outputs": [],
   "source": [
    "import gym\n",
    "import tensorflow.keras as keras\n",
    "import tensorflow as tf\n",
    "import numpy as np\n",
    "\n",
    "import matplotlib.pyplot as plt\n",
    "plt.style.use('ggplot')\n",
    "\n",
    "from IPython import display\n",
    "\n",
    "from tqdm import tqdm\n",
    "import os"
   ]
  },
  {
   "cell_type": "markdown",
   "metadata": {},
   "source": [
    "# Reinforcement Learning #1"
   ]
  },
  {
   "cell_type": "markdown",
   "metadata": {},
   "source": [
    "## Create an environment"
   ]
  },
  {
   "cell_type": "code",
   "execution_count": 30,
   "metadata": {},
   "outputs": [],
   "source": [
    "env = gym.make('CartPole-v1')\n",
    "\n",
    "# Initialize the environment\n",
    "obs = env.reset()"
   ]
  },
  {
   "cell_type": "markdown",
   "metadata": {},
   "source": [
    "Observation object contains the following information:\n",
    "\n",
    "* cart's horizontal position, where `0.0` is center\n",
    "* cart's velocity, where positive means right\n",
    "* pole's angle, where `0.0` means vertical\n",
    "* pole's angular velocity - positive = clockwise"
   ]
  },
  {
   "cell_type": "code",
   "execution_count": 31,
   "metadata": {},
   "outputs": [
    {
     "data": {
      "text/plain": [
       "array([ 0.04178534, -0.03839284, -0.00748959,  0.01395795])"
      ]
     },
     "execution_count": 31,
     "metadata": {},
     "output_type": "execute_result"
    }
   ],
   "source": [
    "obs"
   ]
  },
  {
   "cell_type": "code",
   "execution_count": 32,
   "metadata": {},
   "outputs": [
    {
     "data": {
      "image/png": "[encoded data removed]",
      "text/plain": [
       "<Figure size 432x288 with 1 Axes>"
      ]
     },
     "metadata": {},
     "output_type": "display_data"
    }
   ],
   "source": [
    "# Visualize the environment\n",
    "plt.imshow(env.render(mode = 'rgb_array'))\n",
    "plt.grid(b = None)\n",
    "plt.axis('off')\n",
    "plt.show()\n",
    "\n",
    "# NOTE: To close the external render use env.close() after finishing your experiments"
   ]
  },
  {
   "cell_type": "markdown",
   "metadata": {},
   "source": [
    "## Define a basic policy"
   ]
  },
  {
   "cell_type": "markdown",
   "metadata": {},
   "source": [
    "To define our policy let's see what actions can we take:"
   ]
  },
  {
   "cell_type": "code",
   "execution_count": 33,
   "metadata": {},
   "outputs": [
    {
     "data": {
      "text/plain": [
       "Discrete(2)"
      ]
     },
     "execution_count": 33,
     "metadata": {},
     "output_type": "execute_result"
    }
   ],
   "source": [
    "env.action_space"
   ]
  },
  {
   "cell_type": "markdown",
   "metadata": {},
   "source": [
    "There are two possible actions: accelarating the cart left (`0`) or right (`1`).\n",
    "\n",
    "Let's create a policy that accelerates the cart left when the pole is leaening towards right and right otherwise.\n",
    "\n",
    "Before we start, let's see how to take an action."
   ]
  },
  {
   "cell_type": "code",
   "execution_count": 34,
   "metadata": {},
   "outputs": [],
   "source": [
    "# Let's accelerate the cart right\n",
    "action = 1"
   ]
  },
  {
   "cell_type": "code",
   "execution_count": 35,
   "metadata": {},
   "outputs": [],
   "source": [
    "obs, reward, done, info = env.step(action)"
   ]
  },
  {
   "cell_type": "markdown",
   "metadata": {},
   "source": [
    "Taking an action results in new cart and pole coordinates. We also get a reward and information if the trial has finished (either 200 iterations passed or the pole fell or the cart left the main screen) and additional info on the environment (optional)."
   ]
  },
  {
   "cell_type": "code",
   "execution_count": 42,
   "metadata": {},
   "outputs": [],
   "source": [
    "def basic_policy(obs):\n",
    "    pole_angle = obs[2]\n",
    "    return 0 if pole_angle < 0 else 1"
   ]
  },
  {
   "cell_type": "markdown",
   "metadata": {},
   "source": [
    "## Take action!"
   ]
  },
  {
   "cell_type": "code",
   "execution_count": 43,
   "metadata": {},
   "outputs": [
    {
     "name": "stderr",
     "output_type": "stream",
     "text": [
      "100%|██████████████████████████████████████████████████████████████████████████████| 500/500 [00:00<00:00, 1658.18it/s]\n"
     ]
    }
   ],
   "source": [
    "# Let's pick n_episodes and run the simulation with our basic_policy\n",
    "N_EPISODES = 500\n",
    "N_STEPS = 200\n",
    "\n",
    "total_reward = []\n",
    "\n",
    "for episode in tqdm(range(N_EPISODES)):\n",
    "    episode_reward = 0\n",
    "    obs = env.reset()\n",
    "    \n",
    "    for step in range(N_STEPS):\n",
    "        action = basic_policy(obs)\n",
    "        obs, reward, done, info = env.step(action)\n",
    "        episode_reward += reward\n",
    "        \n",
    "        if done:\n",
    "            break\n",
    "        \n",
    "    total_reward.append(episode_reward)"
   ]
  },
  {
   "cell_type": "markdown",
   "metadata": {},
   "source": [
    "Let's see how our basic policy did!"
   ]
  },
  {
   "cell_type": "code",
   "execution_count": 65,
   "metadata": {},
   "outputs": [
    {
     "data": {
      "image/png": "[encoded data removed]",
      "text/plain": [
       "<Figure size 576x360 with 1 Axes>"
      ]
     },
     "metadata": {},
     "output_type": "display_data"
    }
   ],
   "source": [
    "plt.figure(figsize = (8, 5))\n",
    "plt.hist(total_reward, alpha = .6, color = 'darkblue', bins = int(np.sqrt(N_EPISODES)))\n",
    "plt.axvline(np.mean(total_reward), label = 'mean')\n",
    "plt.xlabel('No. of successful trials per episode')\n",
    "plt.ylabel('Frequency')\n",
    "plt.legend()\n",
    "plt.title(f'Distribution of episode rewards over {N_EPISODES} episodes\\nusing `basic_policy()` with {N_STEPS} trials per episode')\n",
    "plt.show()"
   ]
  },
  {
   "cell_type": "markdown",
   "metadata": {},
   "source": [
    "As we can see, our policy did not work very well. Only in very rare cases our cart was able to continue the game until ~70 trials out of 200. On average, the game was over after around 42 trials 😥\n",
    "\n",
    "Let's see one of the games using our policy."
   ]
  },
  {
   "cell_type": "code",
   "execution_count": 78,
   "metadata": {},
   "outputs": [
    {
     "name": "stdout",
     "output_type": "stream",
     "text": [
      "Done in 40 steps.\n"
     ]
    },
    {
     "data": {
      "image/png": "[encoded data removed]",
      "text/plain": [
       "<Figure size 432x288 with 1 Axes>"
      ]
     },
     "metadata": {},
     "output_type": "display_data"
    }
   ],
   "source": [
    "obs = env.reset()\n",
    "\n",
    "for step in range(N_STEPS):\n",
    "    \n",
    "    # Display env and clean it\n",
    "    plt.imshow(env.render(mode = 'rgb_array'))\n",
    "    plt.grid(b = None)\n",
    "    plt.axis('off')\n",
    "    display.display(plt.gcf())    \n",
    "    display.clear_output(wait = True)\n",
    "#     print(step)\n",
    "    \n",
    "    # Take action\n",
    "    action = basic_policy(obs)\n",
    "    obs, reward, done, info = env.step(action)\n",
    "    episode_reward += reward\n",
    "        \n",
    "    if done:\n",
    "        print(f'Done in {step} steps.')\n",
    "        break\n",
    "\n",
    "env.close()"
   ]
  },
  {
   "cell_type": "markdown",
   "metadata": {},
   "source": [
    "## Neural Network Policy"
   ]
  },
  {
   "cell_type": "code",
   "execution_count": 283,
   "metadata": {},
   "outputs": [],
   "source": [
    "# Define network params\n",
    "N_INPUTS = 4\n",
    "N_DENSE = 5   # a small hidden layer for a simple problem"
   ]
  },
  {
   "cell_type": "code",
   "execution_count": 284,
   "metadata": {},
   "outputs": [],
   "source": [
    "# Define the model\n",
    "model = keras.models.Sequential([\n",
    "    keras.layers.Dense(N_DENSE, activation = 'elu', input_shape = [N_INPUTS]),\n",
    "    keras.layers.Dense(1, activation = 'sigmoid')\n",
    "])"
   ]
  },
  {
   "cell_type": "markdown",
   "metadata": {},
   "source": [
    "### Policy Gradients"
   ]
  },
  {
   "cell_type": "code",
   "execution_count": 285,
   "metadata": {},
   "outputs": [],
   "source": [
    "def play_one_step(env, obs, model, loss_func):\n",
    "\n",
    "    \"\"\"\n",
    "    Play one step using tf.keras model as a policy\n",
    "    \"\"\"\n",
    "    \n",
    "    with tf.GradientTape() as tape:\n",
    "        \n",
    "        proba_left = model(obs[np.newaxis])    # Model expects batch, we add new axis to fulfill this req.\n",
    "        action = (tf.random.uniform([1, 1]) > proba_left)    \n",
    "        \n",
    "        # Let's compute probability of accelerating left\n",
    "        # If `action` is 0 (meaning \"acc. left\"), the probability of accelerating left will be 1; 0 otherwise\n",
    "        target_proba_left = tf.constant([[1.]]) - tf.cast(action, tf.float32)\n",
    "        \n",
    "        # Compute loss\n",
    "        loss = tf.reduce_mean(loss_func(target_proba_left, proba_left))\n",
    "        \n",
    "    # Get gradients\n",
    "    grads = tape.gradient(loss, model.trainable_variables)\n",
    "    obs, reward, done, info = env.step(int(action[0, 0].numpy()))\n",
    "    \n",
    "    # Note that we're not applying the gradient right away - just return them\n",
    "    return obs, reward, done, grads"
   ]
  },
  {
   "cell_type": "code",
   "execution_count": 286,
   "metadata": {},
   "outputs": [],
   "source": [
    "def play_n_episodes(env, n_episodes, n_max_staeps, model, loss_func):\n",
    "    \n",
    "    \"\"\"\n",
    "    Play n episodes using tf.keras model as a policy\n",
    "    \"\"\"\n",
    "    \n",
    "    all_rewards = []\n",
    "    all_grads = []\n",
    "    \n",
    "    for episode in range(n_episodes): \n",
    "        \n",
    "        episode_rewards = []\n",
    "        episode_grads = []\n",
    "        \n",
    "        obs = env.reset()\n",
    "        \n",
    "        for step in range(n_max_staeps):\n",
    "            obs, reward, done, grads = play_one_step(env, obs, model, loss_func)\n",
    "            \n",
    "            episode_rewards.append(reward)\n",
    "            episode_grads.append(grads)\n",
    "            \n",
    "            if done:\n",
    "                break\n",
    "                \n",
    "        all_rewards.append(episode_rewards)\n",
    "        all_grads.append(episode_grads)\n",
    "        \n",
    "    return all_rewards, all_grads"
   ]
  },
  {
   "cell_type": "code",
   "execution_count": 287,
   "metadata": {},
   "outputs": [],
   "source": [
    "def discount(rewards, discount_factor):\n",
    "    \n",
    "    \"\"\"\n",
    "    Discount rewards\n",
    "    \"\"\"\n",
    "    \n",
    "    discounted = np.array(rewards).astype(np.float32)  # Cast to float32 - as new ver of np keeps it as ints\n",
    "    \n",
    "    for i in range(len(rewards) - 2, -1, -1):\n",
    "        discounted[i] += discounted[i + 1] * discount_factor\n",
    "    \n",
    "    return discounted"
   ]
  },
  {
   "cell_type": "code",
   "execution_count": 288,
   "metadata": {},
   "outputs": [
    {
     "data": {
      "text/plain": [
       "array([24.4, 18. , 10. ], dtype=float32)"
      ]
     },
     "execution_count": 288,
     "metadata": {},
     "output_type": "execute_result"
    }
   ],
   "source": [
    "# Check if works as expected - EV = [24.4, 18, 10]\n",
    "discount([10, 10, 10], .8)"
   ]
  },
  {
   "cell_type": "code",
   "execution_count": 289,
   "metadata": {},
   "outputs": [],
   "source": [
    "def discount_and_normalize(all_rewards, discount_factor):\n",
    "    \n",
    "    \"\"\"\n",
    "    Applies discount to rewards and and normalizes them.\n",
    "    \"\"\"\n",
    "    \n",
    "    all_discounted_rewards = [discount(rewards, discount_factor) for rewards in all_rewards]\n",
    "    \n",
    "    # Get mean and sd of all rewards\n",
    "    flat_rewards = np.concatenate(all_discounted_rewards)\n",
    "    reward_mean = np.mean(flat_rewards)\n",
    "    reward_sd = np.std(flat_rewards)\n",
    "    \n",
    "    return [(discounted_rewards - reward_mean) / reward_sd for discounted_rewards in all_discounted_rewards]"
   ]
  },
  {
   "cell_type": "code",
   "execution_count": 290,
   "metadata": {},
   "outputs": [
    {
     "data": {
      "text/plain": [
       "[array([-0.28435072, -0.86597717, -1.189103  ], dtype=float32),\n",
       " array([1.2666533, 1.0727777], dtype=float32)]"
      ]
     },
     "execution_count": 290,
     "metadata": {},
     "output_type": "execute_result"
    }
   ],
   "source": [
    "# Sanity check - expected -> [-.28..., -.86..., -.1.18...], [1.26..., 1.07...]\n",
    "discount_and_normalize([[10, 0, -50], [10, 20]], discount_factor = .8)"
   ]
  },
  {
   "cell_type": "markdown",
   "metadata": {},
   "source": [
    "### Model params and training loop"
   ]
  },
  {
   "cell_type": "code",
   "execution_count": 291,
   "metadata": {},
   "outputs": [],
   "source": [
    "N_ITERS = 150\n",
    "N_EPISODES_PER_UPDATE = 10\n",
    "N_MAX_STEPS = 200\n",
    "DISCOUNT_FACTOR = .95"
   ]
  },
  {
   "cell_type": "code",
   "execution_count": 292,
   "metadata": {},
   "outputs": [],
   "source": [
    "optimizer = keras.optimizers.Adam(lr = 1e-2)\n",
    "loss_func = keras.losses.binary_crossentropy"
   ]
  },
  {
   "cell_type": "code",
   "execution_count": 293,
   "metadata": {},
   "outputs": [
    {
     "name": "stderr",
     "output_type": "stream",
     "text": [
      "\r",
      "  0%|                                                                                          | 0/150 [00:00<?, ?it/s]"
     ]
    },
    {
     "name": "stdout",
     "output_type": "stream",
     "text": [
      "WARNING:tensorflow:Layer dense_10 is casting an input tensor from dtype float64 to the layer's dtype of float32, which is new behavior in TensorFlow 2.  The layer has dtype float32 because it's dtype defaults to floatx.\n",
      "\n",
      "If you intended to run this layer in float32, you can safely ignore this warning. If in doubt, this warning is likely only an issue if you are porting a TensorFlow 1.X model to TensorFlow 2.\n",
      "\n",
      "To change all layers to have dtype float64 by default, call `tf.keras.backend.set_floatx('float64')`. To change just this layer, pass dtype='float64' to the layer constructor. If you are the author of this layer, you can disable autocasting by passing autocast=False to the base Layer constructor.\n",
      "\n"
     ]
    },
    {
     "name": "stderr",
     "output_type": "stream",
     "text": [
      "100%|█████████████████████████████████████████████████████████████████████████████| 150/150 [9:01:17<00:00, 216.52s/it]\n"
     ]
    }
   ],
   "source": [
    "# Training loop\n",
    "\n",
    "env.reset()\n",
    "\n",
    "for i in tqdm(range(N_ITERS)):\n",
    "    \n",
    "    all_rewards, all_grads = play_n_episodes(env, N_EPISODES, N_MAX_STEPS, model, loss_func)\n",
    "    all_final_rewards = discount_and_normalize(all_rewards, DISCOUNT_FACTOR)\n",
    "    \n",
    "    all_mean_grads = []\n",
    "    \n",
    "    for var_index in range(len(model.trainable_variables)):\n",
    "        mean_grads = tf.reduce_mean(\n",
    "                        [final_reward * all_grads[episode_index][step][var_index]\n",
    "                            for episode_index, final_rewards in enumerate(all_final_rewards)\n",
    "                                for step, final_reward in enumerate(final_rewards)], axis = 0)\n",
    "        \n",
    "        all_mean_grads.append(mean_grads)\n",
    "        \n",
    "    optimizer.apply_gradients(zip(all_mean_grads, model.trainable_variables))"
   ]
  },
  {
   "cell_type": "code",
   "execution_count": 296,
   "metadata": {},
   "outputs": [
    {
     "name": "stdout",
     "output_type": "stream",
     "text": [
      "INFO:tensorflow:Assets written to: ./models/gradient_policy_01.model/assets\n"
     ]
    }
   ],
   "source": [
    "# Save model\n",
    "os.makedirs('./models', exist_ok = True)\n",
    "model.save('./models/gradient_policy_01/')"
   ]
  },
  {
   "cell_type": "markdown",
   "metadata": {},
   "source": [
    "### Check how NN model works"
   ]
  },
  {
   "cell_type": "code",
   "execution_count": 305,
   "metadata": {},
   "outputs": [
    {
     "name": "stderr",
     "output_type": "stream",
     "text": [
      "100%|████████████████████████████████████████████████████████████████████████████████| 500/500 [02:12<00:00,  3.77it/s]\n"
     ]
    }
   ],
   "source": [
    "# Let's pick n_episodes and run the simulation with our nn policy\n",
    "N_EPISODES = 500\n",
    "N_STEPS = 200\n",
    "\n",
    "total_reward = []\n",
    "\n",
    "for episode in tqdm(range(N_EPISODES)):\n",
    "    episode_reward = 0\n",
    "    obs = env.reset()\n",
    "    \n",
    "    for step in range(N_STEPS):\n",
    "        action = (tf.random.uniform([1, 1]) > model(obs[np.newaxis]))[0][0].numpy().astype(np.int32)\n",
    "        obs, reward, done, info = env.step(action)\n",
    "        episode_reward += reward\n",
    "        \n",
    "        if done:\n",
    "            break\n",
    "        \n",
    "    total_reward.append(episode_reward)"
   ]
  },
  {
   "cell_type": "code",
   "execution_count": 307,
   "metadata": {},
   "outputs": [
    {
     "data": {
      "image/png": "[encoded data removed]",
      "text/plain": [
       "<Figure size 576x360 with 1 Axes>"
      ]
     },
     "metadata": {},
     "output_type": "display_data"
    }
   ],
   "source": [
    "plt.figure(figsize = (8, 5))\n",
    "plt.hist(total_reward, alpha = .6, color = 'darkblue', bins = int(np.sqrt(N_EPISODES)))\n",
    "plt.axvline(np.mean(total_reward), label = 'mean')\n",
    "plt.xlabel('No. of successful trials per episode')\n",
    "plt.ylabel('Frequency')\n",
    "plt.legend()\n",
    "plt.title(f'Distribution of episode rewards over {N_EPISODES} episodes\\nusing `model()` with {N_STEPS} trials per episode')\n",
    "plt.show()"
   ]
  },
  {
   "cell_type": "markdown",
   "metadata": {},
   "source": [
    "Neural network policy works much better! \n",
    "\n",
    "Let's visualize one episode."
   ]
  },
  {
   "cell_type": "code",
   "execution_count": 308,
   "metadata": {},
   "outputs": [
    {
     "data": {
      "image/png": "[encoded data removed]",
      "text/plain": [
       "<Figure size 432x288 with 1 Axes>"
      ]
     },
     "metadata": {},
     "output_type": "display_data"
    }
   ],
   "source": [
    "obs = env.reset()\n",
    "\n",
    "for step in range(N_STEPS):\n",
    "    \n",
    "    # Display env and clean it\n",
    "    plt.imshow(env.render(mode = 'rgb_array'))\n",
    "    plt.grid(b = None)\n",
    "    plt.axis('off')\n",
    "    display.display(plt.gcf())    \n",
    "    display.clear_output(wait = True)\n",
    "#     print(step)\n",
    "    \n",
    "    # Take action\n",
    "    action = (tf.random.uniform([1, 1]) > model(obs[np.newaxis]))[0][0].numpy().astype(np.int32)\n",
    "    obs, reward, done, info = env.step(action)\n",
    "    episode_reward += reward\n",
    "        \n",
    "    if done:\n",
    "        print(f'Done in {step} steps.')\n",
    "        break\n",
    "\n",
    "env.close()"
   ]
  },
  {
   "cell_type": "code",
   "execution_count": null,
   "metadata": {},
   "outputs": [],
   "source": []
  }
 ],
 "metadata": {
  "kernelspec": {
   "display_name": "Python 3",
   "language": "python",
   "name": "python3"
  },
  "language_info": {
   "codemirror_mode": {
    "name": "ipython",
    "version": 3
   },
   "file_extension": ".py",
   "mimetype": "text/x-python",
   "name": "python",
   "nbconvert_exporter": "python",
   "pygments_lexer": "ipython3",
   "version": "3.6.5"
  }
 },
 "nbformat": 4,
 "nbformat_minor": 4
}
