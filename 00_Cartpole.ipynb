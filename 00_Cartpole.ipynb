{
 "cells": [
  {
   "cell_type": "code",
   "execution_count": 66,
   "metadata": {},
   "outputs": [],
   "source": [
    "import gym\n",
    "import tensorflow.keras as keras\n",
    "import numpy as np\n",
    "\n",
    "import matplotlib.pyplot as plt\n",
    "plt.style.use('ggplot')\n",
    "\n",
    "from IPython import display\n",
    "\n",
    "from tqdm import tqdm"
   ]
  },
  {
   "cell_type": "markdown",
   "metadata": {},
   "source": [
    "# Reinforcement Learning #1"
   ]
  },
  {
   "cell_type": "markdown",
   "metadata": {},
   "source": [
    "## Create an environment"
   ]
  },
  {
   "cell_type": "code",
   "execution_count": 30,
   "metadata": {},
   "outputs": [],
   "source": [
    "env = gym.make('CartPole-v1')\n",
    "\n",
    "# Initialize the environment\n",
    "obs = env.reset()"
   ]
  },
  {
   "cell_type": "markdown",
   "metadata": {},
   "source": [
    "Observation object contains the following information:\n",
    "\n",
    "* cart's horizontal position, where `0.0` is center\n",
    "* cart's velocity, where positive means right\n",
    "* pole's angle, where `0.0` means vertical\n",
    "* pole's angular velocity - positive = clockwise"
   ]
  },
  {
   "cell_type": "code",
   "execution_count": 31,
   "metadata": {},
   "outputs": [
    {
     "data": {
      "text/plain": [
       "array([ 0.04178534, -0.03839284, -0.00748959,  0.01395795])"
      ]
     },
     "execution_count": 31,
     "metadata": {},
     "output_type": "execute_result"
    }
   ],
   "source": [
    "obs"
   ]
  },
  {
   "cell_type": "code",
   "execution_count": 32,
   "metadata": {},
   "outputs": [
    {
     "data": {
      "image/png": "[encoded data removed]",
      "text/plain": [
       "<Figure size 432x288 with 1 Axes>"
      ]
     },
     "metadata": {},
     "output_type": "display_data"
    }
   ],
   "source": [
    "# Visualize the environment\n",
    "plt.imshow(env.render(mode = 'rgb_array'))\n",
    "plt.grid(b = None)\n",
    "plt.axis('off')\n",
    "plt.show()\n",
    "\n",
    "# NOTE: To close the external render use env.close() after finishing your experiments"
   ]
  },
  {
   "cell_type": "markdown",
   "metadata": {},
   "source": [
    "## Define a basic policy"
   ]
  },
  {
   "cell_type": "markdown",
   "metadata": {},
   "source": [
    "To define our policy let's see what actions can we take:"
   ]
  },
  {
   "cell_type": "code",
   "execution_count": 33,
   "metadata": {},
   "outputs": [
    {
     "data": {
      "text/plain": [
       "Discrete(2)"
      ]
     },
     "execution_count": 33,
     "metadata": {},
     "output_type": "execute_result"
    }
   ],
   "source": [
    "env.action_space"
   ]
  },
  {
   "cell_type": "markdown",
   "metadata": {},
   "source": [
    "There are two possible actions: accelarating the cart left (`0`) or right (`1`).\n",
    "\n",
    "Let's create a policy that accelerates the cart left when the pole is leaening towards right and right otherwise.\n",
    "\n",
    "Before we start, let's see how to take an action."
   ]
  },
  {
   "cell_type": "code",
   "execution_count": 34,
   "metadata": {},
   "outputs": [],
   "source": [
    "# Let's accelerate the cart right\n",
    "action = 1"
   ]
  },
  {
   "cell_type": "code",
   "execution_count": 35,
   "metadata": {},
   "outputs": [],
   "source": [
    "obs, reward, done, info = env.step(action)"
   ]
  },
  {
   "cell_type": "markdown",
   "metadata": {},
   "source": [
    "Taking an action results in new cart and pole coordinates. We also get a reward and information if the trial has finished (either 200 iterations passed or the pole fell or the cart left the main screen) and additional info on the environment (optional)."
   ]
  },
  {
   "cell_type": "code",
   "execution_count": 42,
   "metadata": {},
   "outputs": [],
   "source": [
    "def basic_policy(obs):\n",
    "    pole_angle = obs[2]\n",
    "    return 0 if pole_angle < 0 else 1"
   ]
  },
  {
   "cell_type": "markdown",
   "metadata": {},
   "source": [
    "## Take action!"
   ]
  },
  {
   "cell_type": "code",
   "execution_count": 43,
   "metadata": {},
   "outputs": [
    {
     "name": "stderr",
     "output_type": "stream",
     "text": [
      "100%|██████████████████████████████████████████████████████████████████████████████| 500/500 [00:00<00:00, 1658.18it/s]\n"
     ]
    }
   ],
   "source": [
    "# Let's pick n_episodes and run the simulation with our basic_policy\n",
    "N_EPISODES = 500\n",
    "N_STEPS = 200\n",
    "\n",
    "total_reward = []\n",
    "\n",
    "for episode in tqdm(range(N_EPISODES)):\n",
    "    episode_reward = 0\n",
    "    obs = env.reset()\n",
    "    \n",
    "    for step in range(N_STEPS):\n",
    "        action = basic_policy(obs)\n",
    "        obs, reward, done, info = env.step(action)\n",
    "        episode_reward += reward\n",
    "        \n",
    "        if done:\n",
    "            break\n",
    "        \n",
    "    total_reward.append(episode_reward)"
   ]
  },
  {
   "cell_type": "markdown",
   "metadata": {},
   "source": [
    "Let's see how our basic policy did!"
   ]
  },
  {
   "cell_type": "code",
   "execution_count": 65,
   "metadata": {},
   "outputs": [
    {
     "data": {
      "image/png": "[encoded data removed]",
      "text/plain": [
       "<Figure size 576x360 with 1 Axes>"
      ]
     },
     "metadata": {},
     "output_type": "display_data"
    }
   ],
   "source": [
    "plt.figure(figsize = (8, 5))\n",
    "plt.hist(total_reward, alpha = .6, color = 'darkblue', bins = int(np.sqrt(N_EPISODES)))\n",
    "plt.axvline(np.mean(total_reward), label = 'mean')\n",
    "plt.xlabel('No. of successful trials per episode')\n",
    "plt.ylabel('Frequency')\n",
    "plt.legend()\n",
    "plt.title(f'Distribution of episode rewards over {N_EPISODES} episodes\\nusing `basic_policy()` with {N_STEPS} trials per episode')\n",
    "plt.show()"
   ]
  },
  {
   "cell_type": "markdown",
   "metadata": {},
   "source": [
    "As we can see, our policy did not work very well. Only in very rare cases our cart was able to continue the game until ~70 trials out of 200. On average, the game was over after around 42 trials 😥\n",
    "\n",
    "Let's see one of the games using our policy."
   ]
  },
  {
   "cell_type": "code",
   "execution_count": 73,
   "metadata": {},
   "outputs": [
    {
     "name": "stdout",
     "output_type": "stream",
     "text": [
      "Done in 54 steps\n"
     ]
    },
    {
     "data": {
      "image/png": "[encoded data removed]",
      "text/plain": [
       "<Figure size 432x288 with 1 Axes>"
      ]
     },
     "metadata": {},
     "output_type": "display_data"
    }
   ],
   "source": [
    "obs = env.reset()\n",
    "\n",
    "for step in range(N_STEPS):\n",
    "    \n",
    "    # Display env and clean it\n",
    "    plt.imshow(env.render(mode = 'rgb_array'))\n",
    "    plt.grid(b = None)\n",
    "    plt.axis('off')\n",
    "    display.display(plt.gcf())    \n",
    "    display.clear_output(wait = True)\n",
    "#     print(step)\n",
    "    \n",
    "    # Take action\n",
    "    action = basic_policy(obs)\n",
    "    obs, reward, done, info = env.step(action)\n",
    "    episode_reward += reward\n",
    "        \n",
    "    if done:\n",
    "        print(f'Done in {step} steps.')\n",
    "        break\n",
    "\n",
    "env.close()"
   ]
  },
  {
   "cell_type": "markdown",
   "metadata": {},
   "source": [
    "## Neural Network Policy"
   ]
  },
  {
   "cell_type": "code",
   "execution_count": 12,
   "metadata": {},
   "outputs": [],
   "source": [
    "# def discount(rewards, discount_factor):\n",
    "    \n",
    "#     discounted = np.array(rewards)\n",
    "    \n",
    "#     for i in range(len(rewards) - 2, -1, -1):\n",
    "#         discounted[i] += discounted[i + 1] * discount_factor\n",
    "    \n",
    "#     return discounted"
   ]
  },
  {
   "cell_type": "code",
   "execution_count": 20,
   "metadata": {},
   "outputs": [],
   "source": [
    "# discount([10, 10, 10], .8)"
   ]
  },
  {
   "cell_type": "code",
   "execution_count": null,
   "metadata": {},
   "outputs": [],
   "source": []
  }
 ],
 "metadata": {
  "kernelspec": {
   "display_name": "Python 3",
   "language": "python",
   "name": "python3"
  },
  "language_info": {
   "codemirror_mode": {
    "name": "ipython",
    "version": 3
   },
   "file_extension": ".py",
   "mimetype": "text/x-python",
   "name": "python",
   "nbconvert_exporter": "python",
   "pygments_lexer": "ipython3",
   "version": "3.6.5"
  }
 },
 "nbformat": 4,
 "nbformat_minor": 4
}
